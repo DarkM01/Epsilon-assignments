{
 "cells": [
  {
   "cell_type": "markdown",
   "metadata": {},
   "source": [
    "# 1-Positive, negative or zero:"
   ]
  },
  {
   "cell_type": "code",
   "execution_count": 4,
   "metadata": {},
   "outputs": [
    {
     "name": "stdout",
     "output_type": "stream",
     "text": [
      "Enter your number:0\n",
      "Zero!\n"
     ]
    }
   ],
   "source": [
    "X=int(input('Enter your number:'))\n",
    "if X>0:\n",
    "    print('Positive!')\n",
    "elif X==0:\n",
    "    print('Zero!')\n",
    "else:\n",
    "    print('Negative!')"
   ]
  },
  {
   "cell_type": "markdown",
   "metadata": {},
   "source": [
    "# 2-Odd or even:"
   ]
  },
  {
   "cell_type": "code",
   "execution_count": 6,
   "metadata": {},
   "outputs": [
    {
     "name": "stdout",
     "output_type": "stream",
     "text": [
      "Enter your number:2\n",
      "Even!\n"
     ]
    }
   ],
   "source": [
    "Y=int(input('Enter your number:'))\n",
    "if Y%2 ==0:\n",
    "    print('Even!')\n",
    "else:\n",
    "    print('Odd!')"
   ]
  },
  {
   "cell_type": "markdown",
   "metadata": {},
   "source": [
    "# 3-Area of a triangle:"
   ]
  },
  {
   "cell_type": "code",
   "execution_count": 2,
   "metadata": {},
   "outputs": [
    {
     "name": "stdout",
     "output_type": "stream",
     "text": [
      "Enter the base of the triangle:2\n",
      "Enter the height of the triangle:4\n",
      "Area = 4.0 unit square\n"
     ]
    }
   ],
   "source": [
    "B=int(input('Enter the base of the triangle:'))\n",
    "H=int(input('Enter the height of the triangle:'))\n",
    "A=(1/2)*B*H\n",
    "print('Area =',A,'unit square')"
   ]
  },
  {
   "cell_type": "markdown",
   "metadata": {},
   "source": [
    "# 4-Random number:"
   ]
  },
  {
   "cell_type": "code",
   "execution_count": 9,
   "metadata": {},
   "outputs": [
    {
     "data": {
      "text/plain": [
       "1"
      ]
     },
     "execution_count": 9,
     "metadata": {},
     "output_type": "execute_result"
    }
   ],
   "source": [
    "from random import randint\n",
    "X=randint(0,9)\n",
    "X"
   ]
  },
  {
   "cell_type": "markdown",
   "metadata": {},
   "source": [
    "# 5- celsius-fahrenheit"
   ]
  },
  {
   "cell_type": "code",
   "execution_count": 2,
   "metadata": {},
   "outputs": [
    {
     "name": "stdout",
     "output_type": "stream",
     "text": [
      "Choose the unit you will enter: \n",
      "1-Celsius      2-Fahrenheit\n",
      "1\n",
      "Enter your number:40\n",
      "40 degrees celsius in fahrenheit = 104.0\n"
     ]
    }
   ],
   "source": [
    "C=int(input('Choose the unit you will enter: \\n1-Celsius      2-Fahrenheit\\n'))\n",
    "M=int(input('Enter your number:'))\n",
    "if C==1:\n",
    "    T=(M*(9/5))+32\n",
    "    print(f'{M} degrees celsius in fahrenheit = {T}')\n",
    "else:\n",
    "    T=(M-32)*(5/9)\n",
    "    print(f'{M} degrees fahrenheit in celsius = {T}')"
   ]
  }
 ],
 "metadata": {
  "kernelspec": {
   "display_name": "Python 3",
   "language": "python",
   "name": "python3"
  },
  "language_info": {
   "codemirror_mode": {
    "name": "ipython",
    "version": 3
   },
   "file_extension": ".py",
   "mimetype": "text/x-python",
   "name": "python",
   "nbconvert_exporter": "python",
   "pygments_lexer": "ipython3",
   "version": "3.7.6"
  }
 },
 "nbformat": 4,
 "nbformat_minor": 4
}
